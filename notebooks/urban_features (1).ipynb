{
  "nbformat": 4,
  "nbformat_minor": 0,
  "metadata": {
    "colab": {
      "provenance": []
    },
    "kernelspec": {
      "name": "python3",
      "display_name": "Python 3"
    },
    "language_info": {
      "name": "python"
    }
  },
  "cells": [
    {
      "cell_type": "code",
      "execution_count": null,
      "metadata": {
        "colab": {
          "base_uri": "https://localhost:8080/",
          "height": 211
        },
        "id": "zXCXW2ZIC3o8",
        "outputId": "aab89261-17e9-47e5-b2fb-e0860635e169"
      },
      "outputs": [
        {
          "output_type": "error",
          "ename": "NameError",
          "evalue": "name 'manhattan_stations' is not defined",
          "traceback": [
            "\u001b[0;31m---------------------------------------------------------------------------\u001b[0m",
            "\u001b[0;31mNameError\u001b[0m                                 Traceback (most recent call last)",
            "\u001b[0;32m<ipython-input-4-e7bce420f255>\u001b[0m in \u001b[0;36m<cell line: 0>\u001b[0;34m()\u001b[0m\n\u001b[1;32m      5\u001b[0m \u001b[0;31m# Your input: manhattan_stations with start_lat and start_lng\u001b[0m\u001b[0;34m\u001b[0m\u001b[0;34m\u001b[0m\u001b[0m\n\u001b[1;32m      6\u001b[0m \u001b[0;31m# Create empty columns for each feature\u001b[0m\u001b[0;34m\u001b[0m\u001b[0;34m\u001b[0m\u001b[0m\n\u001b[0;32m----> 7\u001b[0;31m \u001b[0mmanhattan_stations\u001b[0m\u001b[0;34m[\u001b[0m\u001b[0;34m'num_parks'\u001b[0m\u001b[0;34m]\u001b[0m \u001b[0;34m=\u001b[0m \u001b[0;36m0\u001b[0m\u001b[0;34m\u001b[0m\u001b[0;34m\u001b[0m\u001b[0m\n\u001b[0m\u001b[1;32m      8\u001b[0m \u001b[0mmanhattan_stations\u001b[0m\u001b[0;34m[\u001b[0m\u001b[0;34m'num_malls'\u001b[0m\u001b[0;34m]\u001b[0m \u001b[0;34m=\u001b[0m \u001b[0;36m0\u001b[0m\u001b[0;34m\u001b[0m\u001b[0;34m\u001b[0m\u001b[0m\n\u001b[1;32m      9\u001b[0m \u001b[0mmanhattan_stations\u001b[0m\u001b[0;34m[\u001b[0m\u001b[0;34m'num_theaters'\u001b[0m\u001b[0;34m]\u001b[0m \u001b[0;34m=\u001b[0m \u001b[0;36m0\u001b[0m\u001b[0;34m\u001b[0m\u001b[0;34m\u001b[0m\u001b[0m\n",
            "\u001b[0;31mNameError\u001b[0m: name 'manhattan_stations' is not defined"
          ]
        }
      ],
      "source": [
        "import requests\n",
        "import time\n",
        "import pandas as pd\n",
        "\n",
        "# Your input: manhattan_stations with start_lat and start_lng\n",
        "# Create empty columns for each feature\n",
        "manhattan_stations['num_parks'] = 0\n",
        "manhattan_stations['num_malls'] = 0\n",
        "manhattan_stations['num_theaters'] = 0\n",
        "\n",
        "def count_feature(lat, lon, key, value, radius=500):\n",
        "    overpass_url = \"http://overpass-api.de/api/interpreter\"\n",
        "    query = f\"\"\"\n",
        "    [out:json];\n",
        "    (\n",
        "      node[\"{key}\"=\"{value}\"](around:{radius},{lat},{lon});\n",
        "    );\n",
        "    out;\n",
        "    \"\"\"\n",
        "    try:\n",
        "        response = requests.get(overpass_url, params={'data': query})\n",
        "        data = response.json()\n",
        "        return len(data['elements'])\n",
        "    except:\n",
        "        return 0\n",
        "\n",
        "# Loop through each station and count nearby features\n",
        "for i, row in manhattan_stations.iterrows():\n",
        "    lat = row['start_lat']\n",
        "    lon = row['start_lng']\n",
        "\n",
        "    parks = count_feature(lat, lon, \"leisure\", \"park\")\n",
        "    malls = count_feature(lat, lon, \"shop\", \"mall\")\n",
        "    theaters = count_feature(lat, lon, \"amenity\", \"cinema\")\n",
        "\n",
        "    manhattan_stations.at[i, 'num_parks'] = parks\n",
        "    manhattan_stations.at[i, 'num_malls'] = malls\n",
        "    manhattan_stations.at[i, 'num_theaters'] = theaters\n",
        "\n",
        "    time.sleep(1)  # Respect Overpass API limits\n"
      ]
    },
    {
      "cell_type": "code",
      "source": [
        "# Save to CSV\n",
        "manhattan_stations.to_csv(\"manhattan_stations_enriched.csv\", index=False)\n",
        "\n",
        "# If using Google Colab, mount and save to Google Drive:\n",
        "from google.colab import drive\n",
        "drive.mount('/content/drive')\n",
        "\n",
        "# Save to a folder in your Drive\n",
        "manhattan_stations.to_csv('/content/drive/MyDrive/manhattan_stations_enriched.csv', index=False)\n"
      ],
      "metadata": {
        "id": "HRXe_ajghIts"
      },
      "execution_count": null,
      "outputs": []
    }
  ]
}