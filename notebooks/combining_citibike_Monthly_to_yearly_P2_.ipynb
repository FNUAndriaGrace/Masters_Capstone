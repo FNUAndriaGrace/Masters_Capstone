{
  "nbformat": 4,
  "nbformat_minor": 0,
  "metadata": {
    "colab": {
      "provenance": []
    },
    "kernelspec": {
      "name": "python3",
      "display_name": "Python 3"
    },
    "language_info": {
      "name": "python"
    }
  },
  "cells": [
    {
      "cell_type": "markdown",
      "source": [
        "# 2021⬇️"
      ],
      "metadata": {
        "id": "4YWiwCJ52O1e"
      }
    },
    {
      "cell_type": "code",
      "source": [
        "import pandas as pd\n",
        "import glob\n",
        "\n",
        "# Define the path to your CSV files\n",
        "csv_files = glob.glob('/content/cpz_station_timeseries_2021_*.csv')  # Update the path as per your directory structure\n",
        "\n",
        "# List of dataframes to combine\n",
        "dfs = []\n",
        "\n",
        "# Initialize a variable to store the reference column names from the first file\n",
        "reference_columns = None\n",
        "\n",
        "# Loop over all the CSV files, read and append them to the list\n",
        "for file in csv_files:\n",
        "    try:\n",
        "        # Read the CSV file, parsing 'time_bucket' as datetime and treating 'start_station_id' as a string and 'booking_count' as float\n",
        "        df = pd.read_csv(file, dtype={'start_station_id': str, 'booking_count': float})\n",
        "\n",
        "        # Check if the 'time_bucket' column exists before parsing it\n",
        "        if 'time_bucket' in df.columns:\n",
        "            df['time_bucket'] = pd.to_datetime(df['time_bucket'])\n",
        "        else:\n",
        "            print(f\"Warning: 'time_bucket' column missing in {file}\")\n",
        "\n",
        "        # Ensure 'start_station_id' is always a string\n",
        "        df['start_station_id'] = df['start_station_id'].astype(str)\n",
        "\n",
        "        # Handle NaN values in booking_count and convert it to integer\n",
        "        df['booking_count'] = df['booking_count'].fillna(0).round().astype(int)\n",
        "\n",
        "        # If it's the first file, set the reference columns\n",
        "        if reference_columns is None:\n",
        "            reference_columns = df.columns\n",
        "        # Check if column lengths match before comparing names\n",
        "        elif len(df.columns) != len(reference_columns):\n",
        "            print(f\"Error processing file: {file}. Column length mismatch.\")\n",
        "            print(f\"Expected columns: {reference_columns}\")\n",
        "            print(f\"Actual columns: {df.columns}\")\n",
        "            continue  # Skip this file if column lengths don't match\n",
        "        # Compare column names with reference\n",
        "        elif not all(df.columns == reference_columns):\n",
        "            print(f\"Column mismatch in file: {file}\")\n",
        "            print(f\"Expected columns: {reference_columns}\")\n",
        "            print(f\"Actual columns: {df.columns}\")\n",
        "            continue  # Skip this file if columns don't match\n",
        "\n",
        "        # Append the dataframe to the list if column names match\n",
        "        dfs.append(df)\n",
        "\n",
        "    except Exception as e:\n",
        "        print(f\"Error processing file: {file}. Error: {e}\")\n",
        "\n",
        "# Concatenate all dataframes into a single dataframe if no error occurred\n",
        "if dfs:\n",
        "    combined_df = pd.concat(dfs, ignore_index=True)\n",
        "\n",
        "    # Save the combined dataframe to a Parquet file\n",
        "    combined_df.to_parquet('/content/cpz_station_timeseries_2021.parquet', engine='pyarrow')\n",
        "\n",
        "    # Verify the file is created\n",
        "    print(\"Parquet file created successfully!\")\n",
        "\n",
        "    # Provide a link to download the Parquet file\n",
        "    from google.colab import files\n",
        "    files.download('/content/cpz_station_timeseries_2021.parquet')\n",
        "else:\n",
        "    print(\"No valid data files processed.\")\n"
      ],
      "metadata": {
        "id": "sjU9GlMUxeMP"
      },
      "execution_count": null,
      "outputs": []
    },
    {
      "cell_type": "markdown",
      "source": [
        "## **2021 consists of 9,911,931 Rows and 3 coloumns**"
      ],
      "metadata": {
        "id": "ARHaFCnN1DBC"
      }
    },
    {
      "cell_type": "markdown",
      "source": [
        "# 2022⬇️"
      ],
      "metadata": {
        "id": "cYZ-AYzV2VP7"
      }
    },
    {
      "cell_type": "code",
      "execution_count": null,
      "metadata": {
        "colab": {
          "base_uri": "https://localhost:8080/",
          "height": 34
        },
        "id": "u7y6NRzewofb",
        "outputId": "0c848296-1336-4535-d9c6-f063d6c22389"
      },
      "outputs": [
        {
          "output_type": "stream",
          "name": "stdout",
          "text": [
            "Parquet file created successfully!\n"
          ]
        },
        {
          "output_type": "display_data",
          "data": {
            "text/plain": [
              "<IPython.core.display.Javascript object>"
            ],
            "application/javascript": [
              "\n",
              "    async function download(id, filename, size) {\n",
              "      if (!google.colab.kernel.accessAllowed) {\n",
              "        return;\n",
              "      }\n",
              "      const div = document.createElement('div');\n",
              "      const label = document.createElement('label');\n",
              "      label.textContent = `Downloading \"${filename}\": `;\n",
              "      div.appendChild(label);\n",
              "      const progress = document.createElement('progress');\n",
              "      progress.max = size;\n",
              "      div.appendChild(progress);\n",
              "      document.body.appendChild(div);\n",
              "\n",
              "      const buffers = [];\n",
              "      let downloaded = 0;\n",
              "\n",
              "      const channel = await google.colab.kernel.comms.open(id);\n",
              "      // Send a message to notify the kernel that we're ready.\n",
              "      channel.send({})\n",
              "\n",
              "      for await (const message of channel.messages) {\n",
              "        // Send a message to notify the kernel that we're ready.\n",
              "        channel.send({})\n",
              "        if (message.buffers) {\n",
              "          for (const buffer of message.buffers) {\n",
              "            buffers.push(buffer);\n",
              "            downloaded += buffer.byteLength;\n",
              "            progress.value = downloaded;\n",
              "          }\n",
              "        }\n",
              "      }\n",
              "      const blob = new Blob(buffers, {type: 'application/binary'});\n",
              "      const a = document.createElement('a');\n",
              "      a.href = window.URL.createObjectURL(blob);\n",
              "      a.download = filename;\n",
              "      div.appendChild(a);\n",
              "      a.click();\n",
              "      div.remove();\n",
              "    }\n",
              "  "
            ]
          },
          "metadata": {}
        },
        {
          "output_type": "display_data",
          "data": {
            "text/plain": [
              "<IPython.core.display.Javascript object>"
            ],
            "application/javascript": [
              "download(\"download_e91ae47d-510c-4d28-9ca0-517cc6ca968d\", \"cpz_station_timeseries_2022.parquet\", 24196930)"
            ]
          },
          "metadata": {}
        }
      ],
      "source": [
        "import pandas as pd\n",
        "import glob\n",
        "\n",
        "# Define the path to your CSV files\n",
        "csv_files = glob.glob('/content/cpz_station_timeseries_2022_*.csv')  # Update the path as per your directory structure\n",
        "\n",
        "# List of dataframes to combine\n",
        "dfs = []\n",
        "\n",
        "# Initialize a variable to store the reference column names from the first file\n",
        "reference_columns = None\n",
        "\n",
        "# Loop over all the CSV files, read and append them to the list\n",
        "for file in csv_files:\n",
        "    try:\n",
        "        # Read the CSV file, parsing 'time_bucket' as datetime and treating 'start_station_id' as a string and 'booking_count' as float\n",
        "        df = pd.read_csv(file, dtype={'start_station_id': str, 'booking_count': float})\n",
        "\n",
        "        # Check if the 'time_bucket' column exists before parsing it\n",
        "        if 'time_bucket' in df.columns:\n",
        "            df['time_bucket'] = pd.to_datetime(df['time_bucket'])\n",
        "        else:\n",
        "            print(f\"Warning: 'time_bucket' column missing in {file}\")\n",
        "\n",
        "        # Ensure 'start_station_id' is always a string\n",
        "        df['start_station_id'] = df['start_station_id'].astype(str)\n",
        "\n",
        "        # Handle NaN values in booking_count and convert it to integer\n",
        "        df['booking_count'] = df['booking_count'].fillna(0).round().astype(int)\n",
        "\n",
        "        # If it's the first file, set the reference columns\n",
        "        if reference_columns is None:\n",
        "            reference_columns = df.columns\n",
        "        # Check if column lengths match before comparing names\n",
        "        elif len(df.columns) != len(reference_columns):\n",
        "            print(f\"Error processing file: {file}. Column length mismatch.\")\n",
        "            print(f\"Expected columns: {reference_columns}\")\n",
        "            print(f\"Actual columns: {df.columns}\")\n",
        "            continue  # Skip this file if column lengths don't match\n",
        "        # Compare column names with reference\n",
        "        elif not all(df.columns == reference_columns):\n",
        "            print(f\"Column mismatch in file: {file}\")\n",
        "            print(f\"Expected columns: {reference_columns}\")\n",
        "            print(f\"Actual columns: {df.columns}\")\n",
        "            continue  # Skip this file if columns don't match\n",
        "\n",
        "        # Append the dataframe to the list if column names match\n",
        "        dfs.append(df)\n",
        "\n",
        "    except Exception as e:\n",
        "        print(f\"Error processing file: {file}. Error: {e}\")\n",
        "\n",
        "# Concatenate all dataframes into a single dataframe if no error occurred\n",
        "if dfs:\n",
        "    combined_df = pd.concat(dfs, ignore_index=True)\n",
        "\n",
        "    # Sort the dataframe by the 'time_bucket' column to ensure it's in chronological order\n",
        "    combined_df = combined_df.sort_values(by='time_bucket')\n",
        "\n",
        "    # Aggregate by 'start_station_id' and 'time_bucket', summing 'booking_count'\n",
        "    combined_df = combined_df.groupby(['start_station_id', 'time_bucket'], as_index=False).agg({'booking_count': 'sum'})\n",
        "\n",
        "    # Save the combined dataframe to a Parquet file\n",
        "    combined_df.to_parquet('/content/cpz_station_timeseries_2022.parquet', engine='pyarrow')\n",
        "\n",
        "    # Verify the file is created\n",
        "    print(\"Parquet file created successfully!\")\n",
        "\n",
        "    # Provide a link to download the Parquet file\n",
        "    from google.colab import files\n",
        "    files.download('/content/cpz_station_timeseries_202.parquet')\n",
        "else:\n",
        "    print(\"No valid data files processed.\")\n"
      ]
    },
    {
      "cell_type": "code",
      "source": [
        "# prompt: /content/cpz_station_timeseries_2022.parquet.  print the head and tail\n",
        "\n",
        "import pandas as pd\n",
        "\n",
        "# Load the parquet file into a pandas DataFrame\n",
        "df = pd.read_parquet('/content/cpz_station_timeseries_2022.parquet', engine='pyarrow')\n",
        "\n",
        "df"
      ],
      "metadata": {
        "colab": {
          "base_uri": "https://localhost:8080/",
          "height": 424
        },
        "id": "_Uxto3B9zAUK",
        "outputId": "8d0e56a2-dbf7-40c4-f659-c377f22f0ddf"
      },
      "execution_count": null,
      "outputs": [
        {
          "output_type": "execute_result",
          "data": {
            "text/plain": [
              "        start_station_id         time_bucket  booking_count\n",
              "0                2733.03 2022-01-02 13:15:00              1\n",
              "1                2733.03 2022-01-02 13:45:00              1\n",
              "2                2733.03 2022-01-02 14:45:00              1\n",
              "3                2733.03 2022-01-02 15:45:00              1\n",
              "4                2733.03 2022-01-02 16:30:00              2\n",
              "...                  ...                 ...            ...\n",
              "9185181           SYS038 2022-12-16 17:45:00              1\n",
              "9185182           SYS038 2022-12-19 17:00:00              1\n",
              "9185183           SYS038 2022-12-22 11:00:00              1\n",
              "9185184           SYS038 2022-12-24 11:15:00              1\n",
              "9185185           SYS038 2022-12-28 15:00:00              1\n",
              "\n",
              "[9185186 rows x 3 columns]"
            ],
            "text/html": [
              "\n",
              "  <div id=\"df-e31713fe-88b6-4e66-ae84-ce7a061c3bc1\" class=\"colab-df-container\">\n",
              "    <div>\n",
              "<style scoped>\n",
              "    .dataframe tbody tr th:only-of-type {\n",
              "        vertical-align: middle;\n",
              "    }\n",
              "\n",
              "    .dataframe tbody tr th {\n",
              "        vertical-align: top;\n",
              "    }\n",
              "\n",
              "    .dataframe thead th {\n",
              "        text-align: right;\n",
              "    }\n",
              "</style>\n",
              "<table border=\"1\" class=\"dataframe\">\n",
              "  <thead>\n",
              "    <tr style=\"text-align: right;\">\n",
              "      <th></th>\n",
              "      <th>start_station_id</th>\n",
              "      <th>time_bucket</th>\n",
              "      <th>booking_count</th>\n",
              "    </tr>\n",
              "  </thead>\n",
              "  <tbody>\n",
              "    <tr>\n",
              "      <th>0</th>\n",
              "      <td>2733.03</td>\n",
              "      <td>2022-01-02 13:15:00</td>\n",
              "      <td>1</td>\n",
              "    </tr>\n",
              "    <tr>\n",
              "      <th>1</th>\n",
              "      <td>2733.03</td>\n",
              "      <td>2022-01-02 13:45:00</td>\n",
              "      <td>1</td>\n",
              "    </tr>\n",
              "    <tr>\n",
              "      <th>2</th>\n",
              "      <td>2733.03</td>\n",
              "      <td>2022-01-02 14:45:00</td>\n",
              "      <td>1</td>\n",
              "    </tr>\n",
              "    <tr>\n",
              "      <th>3</th>\n",
              "      <td>2733.03</td>\n",
              "      <td>2022-01-02 15:45:00</td>\n",
              "      <td>1</td>\n",
              "    </tr>\n",
              "    <tr>\n",
              "      <th>4</th>\n",
              "      <td>2733.03</td>\n",
              "      <td>2022-01-02 16:30:00</td>\n",
              "      <td>2</td>\n",
              "    </tr>\n",
              "    <tr>\n",
              "      <th>...</th>\n",
              "      <td>...</td>\n",
              "      <td>...</td>\n",
              "      <td>...</td>\n",
              "    </tr>\n",
              "    <tr>\n",
              "      <th>9185181</th>\n",
              "      <td>SYS038</td>\n",
              "      <td>2022-12-16 17:45:00</td>\n",
              "      <td>1</td>\n",
              "    </tr>\n",
              "    <tr>\n",
              "      <th>9185182</th>\n",
              "      <td>SYS038</td>\n",
              "      <td>2022-12-19 17:00:00</td>\n",
              "      <td>1</td>\n",
              "    </tr>\n",
              "    <tr>\n",
              "      <th>9185183</th>\n",
              "      <td>SYS038</td>\n",
              "      <td>2022-12-22 11:00:00</td>\n",
              "      <td>1</td>\n",
              "    </tr>\n",
              "    <tr>\n",
              "      <th>9185184</th>\n",
              "      <td>SYS038</td>\n",
              "      <td>2022-12-24 11:15:00</td>\n",
              "      <td>1</td>\n",
              "    </tr>\n",
              "    <tr>\n",
              "      <th>9185185</th>\n",
              "      <td>SYS038</td>\n",
              "      <td>2022-12-28 15:00:00</td>\n",
              "      <td>1</td>\n",
              "    </tr>\n",
              "  </tbody>\n",
              "</table>\n",
              "<p>9185186 rows × 3 columns</p>\n",
              "</div>\n",
              "    <div class=\"colab-df-buttons\">\n",
              "\n",
              "  <div class=\"colab-df-container\">\n",
              "    <button class=\"colab-df-convert\" onclick=\"convertToInteractive('df-e31713fe-88b6-4e66-ae84-ce7a061c3bc1')\"\n",
              "            title=\"Convert this dataframe to an interactive table.\"\n",
              "            style=\"display:none;\">\n",
              "\n",
              "  <svg xmlns=\"http://www.w3.org/2000/svg\" height=\"24px\" viewBox=\"0 -960 960 960\">\n",
              "    <path d=\"M120-120v-720h720v720H120Zm60-500h600v-160H180v160Zm220 220h160v-160H400v160Zm0 220h160v-160H400v160ZM180-400h160v-160H180v160Zm440 0h160v-160H620v160ZM180-180h160v-160H180v160Zm440 0h160v-160H620v160Z\"/>\n",
              "  </svg>\n",
              "    </button>\n",
              "\n",
              "  <style>\n",
              "    .colab-df-container {\n",
              "      display:flex;\n",
              "      gap: 12px;\n",
              "    }\n",
              "\n",
              "    .colab-df-convert {\n",
              "      background-color: #E8F0FE;\n",
              "      border: none;\n",
              "      border-radius: 50%;\n",
              "      cursor: pointer;\n",
              "      display: none;\n",
              "      fill: #1967D2;\n",
              "      height: 32px;\n",
              "      padding: 0 0 0 0;\n",
              "      width: 32px;\n",
              "    }\n",
              "\n",
              "    .colab-df-convert:hover {\n",
              "      background-color: #E2EBFA;\n",
              "      box-shadow: 0px 1px 2px rgba(60, 64, 67, 0.3), 0px 1px 3px 1px rgba(60, 64, 67, 0.15);\n",
              "      fill: #174EA6;\n",
              "    }\n",
              "\n",
              "    .colab-df-buttons div {\n",
              "      margin-bottom: 4px;\n",
              "    }\n",
              "\n",
              "    [theme=dark] .colab-df-convert {\n",
              "      background-color: #3B4455;\n",
              "      fill: #D2E3FC;\n",
              "    }\n",
              "\n",
              "    [theme=dark] .colab-df-convert:hover {\n",
              "      background-color: #434B5C;\n",
              "      box-shadow: 0px 1px 3px 1px rgba(0, 0, 0, 0.15);\n",
              "      filter: drop-shadow(0px 1px 2px rgba(0, 0, 0, 0.3));\n",
              "      fill: #FFFFFF;\n",
              "    }\n",
              "  </style>\n",
              "\n",
              "    <script>\n",
              "      const buttonEl =\n",
              "        document.querySelector('#df-e31713fe-88b6-4e66-ae84-ce7a061c3bc1 button.colab-df-convert');\n",
              "      buttonEl.style.display =\n",
              "        google.colab.kernel.accessAllowed ? 'block' : 'none';\n",
              "\n",
              "      async function convertToInteractive(key) {\n",
              "        const element = document.querySelector('#df-e31713fe-88b6-4e66-ae84-ce7a061c3bc1');\n",
              "        const dataTable =\n",
              "          await google.colab.kernel.invokeFunction('convertToInteractive',\n",
              "                                                    [key], {});\n",
              "        if (!dataTable) return;\n",
              "\n",
              "        const docLinkHtml = 'Like what you see? Visit the ' +\n",
              "          '<a target=\"_blank\" href=https://colab.research.google.com/notebooks/data_table.ipynb>data table notebook</a>'\n",
              "          + ' to learn more about interactive tables.';\n",
              "        element.innerHTML = '';\n",
              "        dataTable['output_type'] = 'display_data';\n",
              "        await google.colab.output.renderOutput(dataTable, element);\n",
              "        const docLink = document.createElement('div');\n",
              "        docLink.innerHTML = docLinkHtml;\n",
              "        element.appendChild(docLink);\n",
              "      }\n",
              "    </script>\n",
              "  </div>\n",
              "\n",
              "\n",
              "<div id=\"df-cc406a06-4722-4055-97a9-89faee9b7d7c\">\n",
              "  <button class=\"colab-df-quickchart\" onclick=\"quickchart('df-cc406a06-4722-4055-97a9-89faee9b7d7c')\"\n",
              "            title=\"Suggest charts\"\n",
              "            style=\"display:none;\">\n",
              "\n",
              "<svg xmlns=\"http://www.w3.org/2000/svg\" height=\"24px\"viewBox=\"0 0 24 24\"\n",
              "     width=\"24px\">\n",
              "    <g>\n",
              "        <path d=\"M19 3H5c-1.1 0-2 .9-2 2v14c0 1.1.9 2 2 2h14c1.1 0 2-.9 2-2V5c0-1.1-.9-2-2-2zM9 17H7v-7h2v7zm4 0h-2V7h2v10zm4 0h-2v-4h2v4z\"/>\n",
              "    </g>\n",
              "</svg>\n",
              "  </button>\n",
              "\n",
              "<style>\n",
              "  .colab-df-quickchart {\n",
              "      --bg-color: #E8F0FE;\n",
              "      --fill-color: #1967D2;\n",
              "      --hover-bg-color: #E2EBFA;\n",
              "      --hover-fill-color: #174EA6;\n",
              "      --disabled-fill-color: #AAA;\n",
              "      --disabled-bg-color: #DDD;\n",
              "  }\n",
              "\n",
              "  [theme=dark] .colab-df-quickchart {\n",
              "      --bg-color: #3B4455;\n",
              "      --fill-color: #D2E3FC;\n",
              "      --hover-bg-color: #434B5C;\n",
              "      --hover-fill-color: #FFFFFF;\n",
              "      --disabled-bg-color: #3B4455;\n",
              "      --disabled-fill-color: #666;\n",
              "  }\n",
              "\n",
              "  .colab-df-quickchart {\n",
              "    background-color: var(--bg-color);\n",
              "    border: none;\n",
              "    border-radius: 50%;\n",
              "    cursor: pointer;\n",
              "    display: none;\n",
              "    fill: var(--fill-color);\n",
              "    height: 32px;\n",
              "    padding: 0;\n",
              "    width: 32px;\n",
              "  }\n",
              "\n",
              "  .colab-df-quickchart:hover {\n",
              "    background-color: var(--hover-bg-color);\n",
              "    box-shadow: 0 1px 2px rgba(60, 64, 67, 0.3), 0 1px 3px 1px rgba(60, 64, 67, 0.15);\n",
              "    fill: var(--button-hover-fill-color);\n",
              "  }\n",
              "\n",
              "  .colab-df-quickchart-complete:disabled,\n",
              "  .colab-df-quickchart-complete:disabled:hover {\n",
              "    background-color: var(--disabled-bg-color);\n",
              "    fill: var(--disabled-fill-color);\n",
              "    box-shadow: none;\n",
              "  }\n",
              "\n",
              "  .colab-df-spinner {\n",
              "    border: 2px solid var(--fill-color);\n",
              "    border-color: transparent;\n",
              "    border-bottom-color: var(--fill-color);\n",
              "    animation:\n",
              "      spin 1s steps(1) infinite;\n",
              "  }\n",
              "\n",
              "  @keyframes spin {\n",
              "    0% {\n",
              "      border-color: transparent;\n",
              "      border-bottom-color: var(--fill-color);\n",
              "      border-left-color: var(--fill-color);\n",
              "    }\n",
              "    20% {\n",
              "      border-color: transparent;\n",
              "      border-left-color: var(--fill-color);\n",
              "      border-top-color: var(--fill-color);\n",
              "    }\n",
              "    30% {\n",
              "      border-color: transparent;\n",
              "      border-left-color: var(--fill-color);\n",
              "      border-top-color: var(--fill-color);\n",
              "      border-right-color: var(--fill-color);\n",
              "    }\n",
              "    40% {\n",
              "      border-color: transparent;\n",
              "      border-right-color: var(--fill-color);\n",
              "      border-top-color: var(--fill-color);\n",
              "    }\n",
              "    60% {\n",
              "      border-color: transparent;\n",
              "      border-right-color: var(--fill-color);\n",
              "    }\n",
              "    80% {\n",
              "      border-color: transparent;\n",
              "      border-right-color: var(--fill-color);\n",
              "      border-bottom-color: var(--fill-color);\n",
              "    }\n",
              "    90% {\n",
              "      border-color: transparent;\n",
              "      border-bottom-color: var(--fill-color);\n",
              "    }\n",
              "  }\n",
              "</style>\n",
              "\n",
              "  <script>\n",
              "    async function quickchart(key) {\n",
              "      const quickchartButtonEl =\n",
              "        document.querySelector('#' + key + ' button');\n",
              "      quickchartButtonEl.disabled = true;  // To prevent multiple clicks.\n",
              "      quickchartButtonEl.classList.add('colab-df-spinner');\n",
              "      try {\n",
              "        const charts = await google.colab.kernel.invokeFunction(\n",
              "            'suggestCharts', [key], {});\n",
              "      } catch (error) {\n",
              "        console.error('Error during call to suggestCharts:', error);\n",
              "      }\n",
              "      quickchartButtonEl.classList.remove('colab-df-spinner');\n",
              "      quickchartButtonEl.classList.add('colab-df-quickchart-complete');\n",
              "    }\n",
              "    (() => {\n",
              "      let quickchartButtonEl =\n",
              "        document.querySelector('#df-cc406a06-4722-4055-97a9-89faee9b7d7c button');\n",
              "      quickchartButtonEl.style.display =\n",
              "        google.colab.kernel.accessAllowed ? 'block' : 'none';\n",
              "    })();\n",
              "  </script>\n",
              "</div>\n",
              "\n",
              "  <div id=\"id_9c0aa134-28dc-4aad-b540-dd9e9ea8cf42\">\n",
              "    <style>\n",
              "      .colab-df-generate {\n",
              "        background-color: #E8F0FE;\n",
              "        border: none;\n",
              "        border-radius: 50%;\n",
              "        cursor: pointer;\n",
              "        display: none;\n",
              "        fill: #1967D2;\n",
              "        height: 32px;\n",
              "        padding: 0 0 0 0;\n",
              "        width: 32px;\n",
              "      }\n",
              "\n",
              "      .colab-df-generate:hover {\n",
              "        background-color: #E2EBFA;\n",
              "        box-shadow: 0px 1px 2px rgba(60, 64, 67, 0.3), 0px 1px 3px 1px rgba(60, 64, 67, 0.15);\n",
              "        fill: #174EA6;\n",
              "      }\n",
              "\n",
              "      [theme=dark] .colab-df-generate {\n",
              "        background-color: #3B4455;\n",
              "        fill: #D2E3FC;\n",
              "      }\n",
              "\n",
              "      [theme=dark] .colab-df-generate:hover {\n",
              "        background-color: #434B5C;\n",
              "        box-shadow: 0px 1px 3px 1px rgba(0, 0, 0, 0.15);\n",
              "        filter: drop-shadow(0px 1px 2px rgba(0, 0, 0, 0.3));\n",
              "        fill: #FFFFFF;\n",
              "      }\n",
              "    </style>\n",
              "    <button class=\"colab-df-generate\" onclick=\"generateWithVariable('df')\"\n",
              "            title=\"Generate code using this dataframe.\"\n",
              "            style=\"display:none;\">\n",
              "\n",
              "  <svg xmlns=\"http://www.w3.org/2000/svg\" height=\"24px\"viewBox=\"0 0 24 24\"\n",
              "       width=\"24px\">\n",
              "    <path d=\"M7,19H8.4L18.45,9,17,7.55,7,17.6ZM5,21V16.75L18.45,3.32a2,2,0,0,1,2.83,0l1.4,1.43a1.91,1.91,0,0,1,.58,1.4,1.91,1.91,0,0,1-.58,1.4L9.25,21ZM18.45,9,17,7.55Zm-12,3A5.31,5.31,0,0,0,4.9,8.1,5.31,5.31,0,0,0,1,6.5,5.31,5.31,0,0,0,4.9,4.9,5.31,5.31,0,0,0,6.5,1,5.31,5.31,0,0,0,8.1,4.9,5.31,5.31,0,0,0,12,6.5,5.46,5.46,0,0,0,6.5,12Z\"/>\n",
              "  </svg>\n",
              "    </button>\n",
              "    <script>\n",
              "      (() => {\n",
              "      const buttonEl =\n",
              "        document.querySelector('#id_9c0aa134-28dc-4aad-b540-dd9e9ea8cf42 button.colab-df-generate');\n",
              "      buttonEl.style.display =\n",
              "        google.colab.kernel.accessAllowed ? 'block' : 'none';\n",
              "\n",
              "      buttonEl.onclick = () => {\n",
              "        google.colab.notebook.generateWithVariable('df');\n",
              "      }\n",
              "      })();\n",
              "    </script>\n",
              "  </div>\n",
              "\n",
              "    </div>\n",
              "  </div>\n"
            ],
            "application/vnd.google.colaboratory.intrinsic+json": {
              "type": "dataframe",
              "variable_name": "df"
            }
          },
          "metadata": {},
          "execution_count": 19
        }
      ]
    },
    {
      "cell_type": "markdown",
      "source": [],
      "metadata": {
        "id": "-nnFYgFZ0us6"
      }
    },
    {
      "cell_type": "code",
      "source": [
        "# prompt: /content/cpz_station_timeseries_2022_01_15min.csv. head and tail\n",
        "\n",
        "!head /content/cpz_station_timeseries_2022_01_15min.csv\n",
        "\n"
      ],
      "metadata": {
        "colab": {
          "base_uri": "https://localhost:8080/"
        },
        "id": "gG5DlNYRzURu",
        "outputId": "3cebb925-909b-430a-fdd1-c64d6544fa87"
      },
      "execution_count": null,
      "outputs": [
        {
          "output_type": "stream",
          "name": "stdout",
          "text": [
            "start_station_id,time_bucket,booking_count\n",
            "2733.03,2022-01-02 13:15:00,1\n",
            "2733.03,2022-01-02 13:45:00,1\n",
            "2733.03,2022-01-02 15:45:00,1\n",
            "2733.03,2022-01-02 22:15:00,1\n",
            "2733.03,2022-01-04 12:00:00,1\n",
            "2733.03,2022-01-04 18:00:00,1\n",
            "2733.03,2022-01-04 23:45:00,1\n",
            "2733.03,2022-01-05 14:00:00,1\n",
            "2733.03,2022-01-06 12:45:00,1\n"
          ]
        }
      ]
    },
    {
      "cell_type": "markdown",
      "source": [
        "## ***2022 year consists of total of 9,185,186 rows × 3 columns**"
      ],
      "metadata": {
        "id": "Alsnbru_0vNB"
      }
    },
    {
      "cell_type": "markdown",
      "source": [
        "# 2023⬇️"
      ],
      "metadata": {
        "id": "s53ewp-g2HZr"
      }
    },
    {
      "cell_type": "code",
      "source": [
        "# prompt: /content/cpz_station_timeseries_2023_yearly_15min.csv\n",
        "# print head and tail of this time series dataste\n",
        "\n",
        "import pandas as pd\n",
        "\n",
        "# Load the parquet file into a pandas DataFrame\n",
        "df = pd.read_csv('/content/cpz_station_timeseries_2023_yearly_15min.csv')\n",
        "\n",
        "# Print the head of the DataFrame\n",
        "print(df.head())\n",
        "\n",
        "# Print the tail of the DataFrame\n",
        "print(df.tail())\n"
      ],
      "metadata": {
        "colab": {
          "base_uri": "https://localhost:8080/"
        },
        "id": "-ajdBGD-3JIw",
        "outputId": "331b48d6-9b99-43f2-e3cb-5fa17f112721"
      },
      "execution_count": null,
      "outputs": [
        {
          "output_type": "stream",
          "name": "stderr",
          "text": [
            "<ipython-input-26-7c775904c5ff>:7: DtypeWarning: Columns (0) have mixed types. Specify dtype option on import or set low_memory=False.\n",
            "  df = pd.read_csv('/content/cpz_station_timeseries_2023_yearly_15min.csv')\n"
          ]
        },
        {
          "output_type": "stream",
          "name": "stdout",
          "text": [
            "  start_station_id          time_bucket  booking_count\n",
            "0          2733.03  2023-01-01 00:00:00              1\n",
            "1          2733.03  2023-01-01 06:45:00              1\n",
            "2          2733.03  2023-01-01 13:15:00              1\n",
            "3          2733.03  2023-01-01 15:15:00              1\n",
            "4          2733.03  2023-01-01 17:30:00              1\n",
            "         start_station_id          time_bucket  booking_count\n",
            "13817494           SYS033  2023-12-29 15:00:00              2\n",
            "13817495           SYS033  2023-12-30 15:00:00              1\n",
            "13817496           SYS038  2023-12-12 01:45:00              1\n",
            "13817497           SYS038  2023-12-15 16:45:00              1\n",
            "13817498           SYS038  2023-12-25 02:00:00              1\n"
          ]
        }
      ]
    },
    {
      "cell_type": "code",
      "source": [
        "import pandas as pd\n",
        "\n",
        "# Load the CSV file into a pandas DataFrame\n",
        "df = pd.read_csv('/content/cpz_station_timeseries_2023_yearly_15min.csv')\n",
        "\n",
        "# Convert the 'time_bucket' column to datetime objects\n",
        "df['time_bucket'] = pd.to_datetime(df['time_bucket'])\n",
        "\n",
        "# Explicitly convert 'start_station_id' to string type before saving to Parquet\n",
        "df['start_station_id'] = df['start_station_id'].astype(str)\n",
        "\n",
        "# Save the DataFrame to a Parquet file\n",
        "df.to_parquet('/content/cpz_station_timeseries_2023_yearly_15min.parquet', engine='pyarrow')\n",
        "\n",
        "print(\"Conversion to parquet complete!\")\n",
        "\n",
        "# Provide a link to download the Parquet file\n",
        "from google.colab import files\n",
        "files.download('/content/cpz_station_timeseries_2023_yearly_15min.parquet')"
      ],
      "metadata": {
        "colab": {
          "base_uri": "https://localhost:8080/",
          "height": 69
        },
        "id": "v-VtVUXhMrM2",
        "outputId": "1a5d0b73-46f3-47be-a708-9af6f34ee6bf"
      },
      "execution_count": null,
      "outputs": [
        {
          "output_type": "stream",
          "name": "stderr",
          "text": [
            "<ipython-input-2-14c660669d29>:4: DtypeWarning: Columns (0) have mixed types. Specify dtype option on import or set low_memory=False.\n",
            "  df = pd.read_csv('/content/cpz_station_timeseries_2023_yearly_15min.csv')\n"
          ]
        },
        {
          "output_type": "stream",
          "name": "stdout",
          "text": [
            "Conversion to parquet complete!\n"
          ]
        },
        {
          "output_type": "display_data",
          "data": {
            "text/plain": [
              "<IPython.core.display.Javascript object>"
            ],
            "application/javascript": [
              "\n",
              "    async function download(id, filename, size) {\n",
              "      if (!google.colab.kernel.accessAllowed) {\n",
              "        return;\n",
              "      }\n",
              "      const div = document.createElement('div');\n",
              "      const label = document.createElement('label');\n",
              "      label.textContent = `Downloading \"${filename}\": `;\n",
              "      div.appendChild(label);\n",
              "      const progress = document.createElement('progress');\n",
              "      progress.max = size;\n",
              "      div.appendChild(progress);\n",
              "      document.body.appendChild(div);\n",
              "\n",
              "      const buffers = [];\n",
              "      let downloaded = 0;\n",
              "\n",
              "      const channel = await google.colab.kernel.comms.open(id);\n",
              "      // Send a message to notify the kernel that we're ready.\n",
              "      channel.send({})\n",
              "\n",
              "      for await (const message of channel.messages) {\n",
              "        // Send a message to notify the kernel that we're ready.\n",
              "        channel.send({})\n",
              "        if (message.buffers) {\n",
              "          for (const buffer of message.buffers) {\n",
              "            buffers.push(buffer);\n",
              "            downloaded += buffer.byteLength;\n",
              "            progress.value = downloaded;\n",
              "          }\n",
              "        }\n",
              "      }\n",
              "      const blob = new Blob(buffers, {type: 'application/binary'});\n",
              "      const a = document.createElement('a');\n",
              "      a.href = window.URL.createObjectURL(blob);\n",
              "      a.download = filename;\n",
              "      div.appendChild(a);\n",
              "      a.click();\n",
              "      div.remove();\n",
              "    }\n",
              "  "
            ]
          },
          "metadata": {}
        },
        {
          "output_type": "display_data",
          "data": {
            "text/plain": [
              "<IPython.core.display.Javascript object>"
            ],
            "application/javascript": [
              "download(\"download_01c89021-c8cd-413d-8a98-52fca3da9429\", \"cpz_station_timeseries_2023_yearly_15min.parquet\", 28678430)"
            ]
          },
          "metadata": {}
        }
      ]
    },
    {
      "cell_type": "code",
      "source": [
        "# prompt: /content/cpz_station_timeseries_2023_yearly_15min.parquet. print head and tail and the dimensions\n",
        "\n",
        "import pandas as pd\n",
        "\n",
        "# Load the parquet file\n",
        "df = pd.read_parquet('/content/cpz_station_timeseries_2023_yearly_15min.parquet', engine='pyarrow')\n",
        "\n",
        "# Print the head of the DataFrame\n",
        "print(df.head())\n",
        "\n",
        "# Print the tail of the DataFrame\n",
        "print(df.tail())\n",
        "\n",
        "# Print the dimensions of the DataFrame\n",
        "df.shape\n"
      ],
      "metadata": {
        "colab": {
          "base_uri": "https://localhost:8080/"
        },
        "id": "sH8-JEI2M2e_",
        "outputId": "f5df830e-f88f-4a01-d6e9-f776a31d9fe4"
      },
      "execution_count": null,
      "outputs": [
        {
          "output_type": "stream",
          "name": "stdout",
          "text": [
            "  start_station_id         time_bucket  booking_count\n",
            "0          2733.03 2023-01-01 00:00:00              1\n",
            "1          2733.03 2023-01-01 06:45:00              1\n",
            "2          2733.03 2023-01-01 13:15:00              1\n",
            "3          2733.03 2023-01-01 15:15:00              1\n",
            "4          2733.03 2023-01-01 17:30:00              1\n",
            "         start_station_id         time_bucket  booking_count\n",
            "13817494           SYS033 2023-12-29 15:00:00              2\n",
            "13817495           SYS033 2023-12-30 15:00:00              1\n",
            "13817496           SYS038 2023-12-12 01:45:00              1\n",
            "13817497           SYS038 2023-12-15 16:45:00              1\n",
            "13817498           SYS038 2023-12-25 02:00:00              1\n"
          ]
        },
        {
          "output_type": "execute_result",
          "data": {
            "text/plain": [
              "(13817499, 3)"
            ]
          },
          "metadata": {},
          "execution_count": 4
        }
      ]
    },
    {
      "cell_type": "markdown",
      "source": [
        "## 2023 year consists of total of 13,817,499 rows × 3 columns"
      ],
      "metadata": {
        "id": "9Tj73EQVNWVF"
      }
    },
    {
      "cell_type": "markdown",
      "source": [
        "# 2024⬇️"
      ],
      "metadata": {
        "id": "_lFMGclyNhoG"
      }
    },
    {
      "cell_type": "code",
      "source": [
        "import pandas as pd\n",
        "\n",
        "# Load the CSV file into a pandas DataFrame\n",
        "df = pd.read_csv('/content/cpz_station_timeseries_2024_yearly_15min.csv')\n",
        "\n",
        "# Convert the 'time_bucket' column to datetime objects\n",
        "df['time_bucket'] = pd.to_datetime(df['time_bucket'])\n",
        "\n",
        "# Explicitly convert 'start_station_id' to string type before saving to Parquet\n",
        "df['start_station_id'] = df['start_station_id'].astype(str)\n",
        "\n",
        "# Save the DataFrame to a Parquet file\n",
        "df.to_parquet('/content/cpz_station_timeseries_2024_yearly_15min.parquet', engine='pyarrow')\n",
        "\n",
        "print(\"Conversion to parquet complete!\")\n",
        "\n",
        "# Provide a link to download the Parquet file\n",
        "from google.colab import files\n",
        "files.download('/content/cpz_station_timeseries_2024_yearly_15min.parquet')"
      ],
      "metadata": {
        "colab": {
          "base_uri": "https://localhost:8080/",
          "height": 69
        },
        "id": "vHqLERAgNdq0",
        "outputId": "5f1a759f-d8de-4cfe-dc55-5da70d7a52f3"
      },
      "execution_count": null,
      "outputs": [
        {
          "output_type": "stream",
          "name": "stderr",
          "text": [
            "<ipython-input-5-7a29327a59c8>:4: DtypeWarning: Columns (0) have mixed types. Specify dtype option on import or set low_memory=False.\n",
            "  df = pd.read_csv('/content/cpz_station_timeseries_2024_yearly_15min.csv')\n"
          ]
        },
        {
          "output_type": "stream",
          "name": "stdout",
          "text": [
            "Conversion to parquet complete!\n"
          ]
        },
        {
          "output_type": "display_data",
          "data": {
            "text/plain": [
              "<IPython.core.display.Javascript object>"
            ],
            "application/javascript": [
              "\n",
              "    async function download(id, filename, size) {\n",
              "      if (!google.colab.kernel.accessAllowed) {\n",
              "        return;\n",
              "      }\n",
              "      const div = document.createElement('div');\n",
              "      const label = document.createElement('label');\n",
              "      label.textContent = `Downloading \"${filename}\": `;\n",
              "      div.appendChild(label);\n",
              "      const progress = document.createElement('progress');\n",
              "      progress.max = size;\n",
              "      div.appendChild(progress);\n",
              "      document.body.appendChild(div);\n",
              "\n",
              "      const buffers = [];\n",
              "      let downloaded = 0;\n",
              "\n",
              "      const channel = await google.colab.kernel.comms.open(id);\n",
              "      // Send a message to notify the kernel that we're ready.\n",
              "      channel.send({})\n",
              "\n",
              "      for await (const message of channel.messages) {\n",
              "        // Send a message to notify the kernel that we're ready.\n",
              "        channel.send({})\n",
              "        if (message.buffers) {\n",
              "          for (const buffer of message.buffers) {\n",
              "            buffers.push(buffer);\n",
              "            downloaded += buffer.byteLength;\n",
              "            progress.value = downloaded;\n",
              "          }\n",
              "        }\n",
              "      }\n",
              "      const blob = new Blob(buffers, {type: 'application/binary'});\n",
              "      const a = document.createElement('a');\n",
              "      a.href = window.URL.createObjectURL(blob);\n",
              "      a.download = filename;\n",
              "      div.appendChild(a);\n",
              "      a.click();\n",
              "      div.remove();\n",
              "    }\n",
              "  "
            ]
          },
          "metadata": {}
        },
        {
          "output_type": "display_data",
          "data": {
            "text/plain": [
              "<IPython.core.display.Javascript object>"
            ],
            "application/javascript": [
              "download(\"download_243933f7-0013-4861-9eda-5544ee4a329f\", \"cpz_station_timeseries_2024_yearly_15min.parquet\", 31490921)"
            ]
          },
          "metadata": {}
        }
      ]
    },
    {
      "cell_type": "code",
      "source": [
        "# prompt: /content/cpz_station_timeseries_2023_yearly_15min.parquet. print head and tail and the dimensions\n",
        "\n",
        "import pandas as pd\n",
        "\n",
        "# Load the parquet file\n",
        "df = pd.read_parquet('/content/cpz_station_timeseries_2024_yearly_15min.parquet', engine='pyarrow')\n",
        "\n",
        "# Print the head of the DataFrame\n",
        "print(df.head())\n",
        "\n",
        "# Print the tail of the DataFrame\n",
        "print(df.tail())\n",
        "\n",
        "# Print the dimensions of the DataFrame\n",
        "df.shape\n"
      ],
      "metadata": {
        "colab": {
          "base_uri": "https://localhost:8080/"
        },
        "id": "Hy6iKEtCNqhK",
        "outputId": "73b2db64-290f-464b-9892-2b7ae1843d92"
      },
      "execution_count": null,
      "outputs": [
        {
          "output_type": "stream",
          "name": "stdout",
          "text": [
            "  start_station_id         time_bucket  booking_count\n",
            "0          2733.03 2024-01-01 14:30:00              3\n",
            "1          2733.03 2024-01-01 16:30:00              2\n",
            "2          2733.03 2024-01-01 16:45:00              3\n",
            "3          2733.03 2024-01-01 17:30:00              2\n",
            "4          2733.03 2024-01-02 07:45:00              1\n",
            "         start_station_id         time_bucket  booking_count\n",
            "15524338     Shop Morgan  2024-12-19 22:45:00              1\n",
            "15524339     Shop Morgan  2024-12-19 23:00:00              1\n",
            "15524340     Shop Morgan  2024-12-27 19:00:00              1\n",
            "15524341     Shop Morgan  2024-12-28 13:15:00              1\n",
            "15524342     Shop Morgan  2024-12-30 06:45:00              1\n"
          ]
        },
        {
          "output_type": "execute_result",
          "data": {
            "text/plain": [
              "(15524343, 3)"
            ]
          },
          "metadata": {},
          "execution_count": 6
        }
      ]
    },
    {
      "cell_type": "markdown",
      "source": [
        "# 2024 has (15,524,343, 3)"
      ],
      "metadata": {
        "id": "cvp7EHxmN4Mf"
      }
    },
    {
      "cell_type": "code",
      "source": [
        "# prompt: /content/cpz_station_timeseries_2023_yearly_15min.parquet, /content/cpz_station_timeseries_2024_yearly_15min.parquet, /content/cpz_station_timeseries_2021_yearly_15min.parquet, /content/cpz_station_timeseries_2021_yearly_15min.parquet\n",
        "# in these datasets use the start_station_id column and find the total number of unique elements for each respective datasets\n",
        "\n",
        "import pandas as pd\n",
        "\n",
        "# List of parquet file paths\n",
        "parquet_files = [\n",
        "    '/content/cpz_station_timeseries_2024_yearly_15min.parquet',\n",
        "    '/content/cpz_station_timeseries_2023_yearly_15min.parquet',\n",
        "    '/content/cpz_station_timeseries_2022_yearly_15min.parquet',\n",
        "    '/content/cpz_station_timeseries_2021_yearly_15min.parquet'\n",
        "]\n",
        "\n",
        "for file in parquet_files:\n",
        "    try:\n",
        "        # Read the parquet file\n",
        "        df = pd.read_parquet(file, engine='pyarrow')\n",
        "\n",
        "        # Get unique start_station_ids\n",
        "        unique_stations = df['start_station_id'].nunique()\n",
        "\n",
        "        print(f\"Number of unique start_station_ids in {file}: {unique_stations}\")\n",
        "    except FileNotFoundError:\n",
        "        print(f\"Error: File not found - {file}\")\n",
        "    except KeyError:\n",
        "        print(f\"Error: 'start_station_id' column not found in {file}\")\n",
        "    except Exception as e:\n",
        "        print(f\"An error occurred while processing {file}: {e}\")\n"
      ],
      "metadata": {
        "colab": {
          "base_uri": "https://localhost:8080/"
        },
        "id": "zPZHeVAYN8rw",
        "outputId": "09fbf74d-67b8-48a2-ea61-8381d17bc68b"
      },
      "execution_count": null,
      "outputs": [
        {
          "output_type": "stream",
          "name": "stdout",
          "text": [
            "Number of unique start_station_ids in /content/cpz_station_timeseries_2024_yearly_15min.parquet: 2136\n",
            "Number of unique start_station_ids in /content/cpz_station_timeseries_2023_yearly_15min.parquet: 2231\n",
            "Number of unique start_station_ids in /content/cpz_station_timeseries_2022_yearly_15min.parquet: 1095\n",
            "Number of unique start_station_ids in /content/cpz_station_timeseries_2021_yearly_15min.parquet: 845\n"
          ]
        }
      ]
    },
    {
      "cell_type": "markdown",
      "source": [],
      "metadata": {
        "id": "PmNJQXhyEAj4"
      }
    }
  ]
}